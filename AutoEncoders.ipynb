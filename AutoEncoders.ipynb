{
  "nbformat": 4,
  "nbformat_minor": 0,
  "metadata": {
    "colab": {
      "name": "AutoEncoders",
      "provenance": [],
      "collapsed_sections": [],
      "authorship_tag": "ABX9TyOr96z+ZneZKYA1lxf20b02",
      "include_colab_link": true
    },
    "kernelspec": {
      "name": "python3",
      "display_name": "Python 3"
    },
    "accelerator": "GPU"
  },
  "cells": [
    {
      "cell_type": "markdown",
      "metadata": {
        "id": "view-in-github",
        "colab_type": "text"
      },
      "source": [
        "<a href=\"https://colab.research.google.com/github/Eugene31415/Pet-Projects/blob/main/AutoEncoders.ipynb\" target=\"_parent\"><img src=\"https://colab.research.google.com/assets/colab-badge.svg\" alt=\"Open In Colab\"/></a>"
      ]
    },
    {
      "cell_type": "code",
      "metadata": {
        "colab": {
          "base_uri": "https://localhost:8080/"
        },
        "id": "yfx-QGQkAmS3",
        "outputId": "2536fe79-1413-494f-af24-a71611ad8960"
      },
      "source": [
        "from keras.datasets import mnist\n",
        "import numpy as np\n",
        "\n",
        "(x_train, y_train), (x_test, y_test) = mnist.load_data()\n",
        "\n",
        "x_train = x_train.astype('float32') / 255\n",
        "x_test = x_test.astype('float32') / 255\n",
        "\n",
        "x_train = np.expand_dims(x_train,3)\n",
        "x_test = np.expand_dims(x_test,3)\n"
      ],
      "execution_count": null,
      "outputs": [
        {
          "output_type": "stream",
          "text": [
            "Downloading data from https://storage.googleapis.com/tensorflow/tf-keras-datasets/mnist.npz\n",
            "11493376/11490434 [==============================] - 0s 0us/step\n"
          ],
          "name": "stdout"
        }
      ]
    },
    {
      "cell_type": "markdown",
      "metadata": {
        "id": "vpJaAUzISJdc"
      },
      "source": [
        "# Сжимающий автоэнкодер"
      ]
    },
    {
      "cell_type": "code",
      "metadata": {
        "id": "FVnfU6_YBVb-"
      },
      "source": [
        "from keras.layers import Input, Dense, Flatten, Reshape\n",
        "from keras.models import Model\n",
        "\n",
        "def create_dense_ae():\n",
        "    encoding_dim = 49\n",
        "\n",
        "    input_img = Input(shape=(28,28,1))\n",
        "    flat_img = Flatten()(input_img)\n",
        "    encoded = Dense(encoding_dim, activation='relu')(flat_img)\n",
        "\n",
        "    input_encoded = Input(shape=(encoding_dim,))\n",
        "    flat_decoded = Dense(28*28, activation='sigmoid')(input_encoded)\n",
        "    decoded = Reshape((28,28,1))(flat_decoded)\n",
        "\n",
        "    encoder = Model(input_img, encoded, name='encoder')\n",
        "    decoder = Model(input_encoded, decoded, name='decoder')\n",
        "    autoencoder = Model(input_img, decoder(encoder(input_img)), name='autoencoder')\n",
        "    return encoder, decoder, autoencoder\n"
      ],
      "execution_count": null,
      "outputs": []
    },
    {
      "cell_type": "code",
      "metadata": {
        "id": "HdGKm8MjPEGk"
      },
      "source": [
        "encoder, decoder, autoencoder = create_dense_ae()\n",
        "autoencoder.compile(optimizer='adam', loss='binary_crossentropy')"
      ],
      "execution_count": null,
      "outputs": []
    },
    {
      "cell_type": "code",
      "metadata": {
        "colab": {
          "base_uri": "https://localhost:8080/"
        },
        "id": "DAKcB5hLPQqA",
        "outputId": "bf9b3705-05ed-4d0d-ad3b-b47f28b954e2"
      },
      "source": [
        "autoencoder.summary()"
      ],
      "execution_count": null,
      "outputs": [
        {
          "output_type": "stream",
          "text": [
            "Model: \"autoencoder\"\n",
            "_________________________________________________________________\n",
            "Layer (type)                 Output Shape              Param #   \n",
            "=================================================================\n",
            "input_3 (InputLayer)         [(None, 28, 28, 1)]       0         \n",
            "_________________________________________________________________\n",
            "encoder (Functional)         (None, 49)                38465     \n",
            "_________________________________________________________________\n",
            "decoder (Functional)         (None, 28, 28, 1)         39200     \n",
            "=================================================================\n",
            "Total params: 77,665\n",
            "Trainable params: 77,665\n",
            "Non-trainable params: 0\n",
            "_________________________________________________________________\n"
          ],
          "name": "stdout"
        }
      ]
    },
    {
      "cell_type": "code",
      "metadata": {
        "id": "5EqV8MHpPeuQ"
      },
      "source": [
        "autoencoder.fit(x_train, x_train,\n",
        "                epochs=50,\n",
        "                batch_size=256,\n",
        "                shuffle=True,\n",
        "                validation_data=(x_test,x_test))"
      ],
      "execution_count": null,
      "outputs": []
    },
    {
      "cell_type": "code",
      "metadata": {
        "id": "nYFJKRWoQUT2"
      },
      "source": [
        "import seaborn as sns\n",
        "import matplotlib.pyplot as plt\n",
        "\n",
        "def plot_digits(*args):\n",
        "    args = [x.squeeze() for x in args]\n",
        "    n = min([x.shape[0] for x in args])\n",
        "\n",
        "    plt.figure(figsize=(2*n, 2*len(args)))\n",
        "    for j in range(n):\n",
        "        for i in range(len(args)):\n",
        "            ax = plt.subplot(len(args), n, i*n + j + 1)\n",
        "            plt.imshow(args[i][j])\n",
        "            plt.gray()\n",
        "            ax.get_xaxis().set_visible(False)\n",
        "            ax.get_yaxis().set_visible(False)\n",
        "\n",
        "    plt.show()"
      ],
      "execution_count": null,
      "outputs": []
    },
    {
      "cell_type": "code",
      "metadata": {
        "colab": {
          "base_uri": "https://localhost:8080/",
          "height": 149
        },
        "id": "dSPl0GmfRGB4",
        "outputId": "fcaa521f-2a68-4c89-d3dc-3e02198e71b8"
      },
      "source": [
        "n = 10\n",
        "\n",
        "imgs = x_test[:n]\n",
        "\n",
        "encoded_imgs = encoder.predict(imgs, batch_size=n)\n",
        "decoded_imgs = decoder.predict(encoded_imgs, batch_size=n)\n",
        "\n",
        "plot_digits(imgs, decoded_imgs)"
      ],
      "execution_count": null,
      "outputs": [
        {
          "output_type": "display_data",
          "data": {
            "image/png": "[encoded data removed]",
            "text/plain": [
              "<Figure size 1440x288 with 20 Axes>"
            ]
          },
          "metadata": {
            "tags": [],
            "needs_background": "light"
          }
        }
      ]
    },
    {
      "cell_type": "markdown",
      "metadata": {
        "id": "oFFkL6nFSBJa"
      },
      "source": [
        "#Глубокий Автоэнкодер"
      ]
    },
    {
      "cell_type": "code",
      "metadata": {
        "id": "oM2CBuZdSArK"
      },
      "source": [
        "def create_deep_dense_ae():\n",
        "    encoding_dim = 49\n",
        "\n",
        "    input_img = Input(shape=(28,28,1))\n",
        "    flat_img = Flatten()(input_img)\n",
        "    x = Dense(encoding_dim*3, activation='relu')(flat_img)\n",
        "    x = Dense(encoding_dim*2, activation='relu')(x)\n",
        "    encoded = Dense(encoding_dim, activation='linear')(x)\n",
        "\n",
        "    input_encoded = Input(shape=(encoding_dim,))\n",
        "    x = Dense(encoding_dim*2, activation='relu')(input_encoded)\n",
        "    x = Dense(encoding_dim*3, activation='relu')(x)\n",
        "    flat_decoded = Dense(28*28, activation='sigmoid')(x)\n",
        "    decoded = Reshape((28,28,1))(flat_decoded)\n",
        "\n",
        "    encoder = Model(input_img, encoded, name='encoder')\n",
        "    decoder = Model(input_encoded, decoded, name='decoder')\n",
        "    autoencoder = Model(input_img, decoder(encoder(input_img)), name='autoencoder')\n",
        "\n",
        "    return encoder, decoder, autoencoder\n"
      ],
      "execution_count": null,
      "outputs": []
    },
    {
      "cell_type": "code",
      "metadata": {
        "id": "mnOIU0tAYb3X"
      },
      "source": [
        "d_encoder, d_decoder, d_autoencoder = create_deep_dense_ae()\n",
        "d_autoencoder.compile(optimizer='adam', loss='binary_crossentropy')"
      ],
      "execution_count": null,
      "outputs": []
    },
    {
      "cell_type": "code",
      "metadata": {
        "colab": {
          "base_uri": "https://localhost:8080/"
        },
        "id": "P2xxHDHUZL0q",
        "outputId": "b8bbc5f2-c896-40cb-8713-d0889171a83a"
      },
      "source": [
        "d_autoencoder.summary()"
      ],
      "execution_count": null,
      "outputs": [
        {
          "output_type": "stream",
          "text": [
            "Model: \"autoencoder\"\n",
            "_________________________________________________________________\n",
            "Layer (type)                 Output Shape              Param #   \n",
            "=================================================================\n",
            "input_9 (InputLayer)         [(None, 28, 28, 1)]       0         \n",
            "_________________________________________________________________\n",
            "encoder (Functional)         (None, 49)                134750    \n",
            "_________________________________________________________________\n",
            "decoder (Functional)         (None, 28, 28, 1)         135485    \n",
            "=================================================================\n",
            "Total params: 270,235\n",
            "Trainable params: 270,235\n",
            "Non-trainable params: 0\n",
            "_________________________________________________________________\n"
          ],
          "name": "stdout"
        }
      ]
    },
    {
      "cell_type": "code",
      "metadata": {
        "id": "BynGKqGtZiNw"
      },
      "source": [
        "d_autoencoder.fit(x_train, x_train,\n",
        "                  epochs=100,\n",
        "                  batch_size=256,\n",
        "                  shuffle=True,\n",
        "                  validation_data=(x_test,x_test))"
      ],
      "execution_count": null,
      "outputs": []
    },
    {
      "cell_type": "code",
      "metadata": {
        "colab": {
          "base_uri": "https://localhost:8080/",
          "height": 149
        },
        "id": "qKfoahWbZxzH",
        "outputId": "8c1195b3-3e5e-49fe-ce2d-b62cb54b57b8"
      },
      "source": [
        "n = 10\n",
        "\n",
        "imgs = x_test[:n]\n",
        "encoded_imgs = d_encoder.predict(imgs, batch_size=n)\n",
        "encoded_imgs[0]\n",
        "\n",
        "decoded_imgs = d_decoder.predict(encoded_imgs, batch_size=n)\n",
        "\n",
        "plot_digits(imgs, decoded_imgs)"
      ],
      "execution_count": null,
      "outputs": [
        {
          "output_type": "display_data",
          "data": {
            "image/png": "[encoded data removed]",
            "text/plain": [
              "<Figure size 1440x288 with 20 Axes>"
            ]
          },
          "metadata": {
            "tags": [],
            "needs_background": "light"
          }
        }
      ]
    },
    {
      "cell_type": "code",
      "metadata": {
        "colab": {
          "base_uri": "https://localhost:8080/",
          "height": 186
        },
        "id": "uEjZdToCaJlu",
        "outputId": "c686aade-9d15-49f2-d8bf-de784bc2e702"
      },
      "source": [
        "new_imgs = d_autoencoder.predict(imgs, batch_size=n)\n",
        "plot_digits(imgs, new_imgs)"
      ],
      "execution_count": null,
      "outputs": [
        {
          "output_type": "stream",
          "text": [
            "WARNING:tensorflow:5 out of the last 11 calls to <function Model.make_predict_function.<locals>.predict_function at 0x7f6579ae5158> triggered tf.function retracing. Tracing is expensive and the excessive number of tracings could be due to (1) creating @tf.function repeatedly in a loop, (2) passing tensors with different shapes, (3) passing Python objects instead of tensors. For (1), please define your @tf.function outside of the loop. For (2), @tf.function has experimental_relax_shapes=True option that relaxes argument shapes that can avoid unnecessary retracing. For (3), please refer to https://www.tensorflow.org/guide/function#controlling_retracing and https://www.tensorflow.org/api_docs/python/tf/function for  more details.\n"
          ],
          "name": "stdout"
        },
        {
          "output_type": "display_data",
          "data": {
            "image/png": "[encoded data removed]",
            "text/plain": [
              "<Figure size 1440x288 with 20 Axes>"
            ]
          },
          "metadata": {
            "tags": [],
            "needs_background": "light"
          }
        }
      ]
    },
    {
      "cell_type": "code",
      "metadata": {
        "id": "EyAuRnTbaqsL"
      },
      "source": [
        "from keras.layers import Conv2D, MaxPooling2D, UpSampling2D\n",
        "\n",
        "def create_deep_conv_ae():\n",
        "    input_img = Input(shape=(28,28,1))\n",
        "    x = Conv2D(128, (7,7), activation='relu', padding='same')(input_img)\n",
        "    x = MaxPooling2D((2,2), padding='same')(x)\n",
        "    x = Conv2D(32, (2,2), activation='relu', padding='same')(x)\n",
        "    x = MaxPooling2D((2,2), padding='same')(x)\n",
        "    encoded = Conv2D(1, (7,7), activation='relu', padding='same')(x)\n",
        "\n",
        "    input_encoded = Input(shape=(7, 7, 1))\n",
        "    x = Conv2D(32, (7, 7), activation='relu', padding='same')(input_encoded)\n",
        "    x = UpSampling2D((2, 2))(x)\n",
        "    x = Conv2D(128, (2, 2), activation='relu', padding='same')(x)\n",
        "    x = UpSampling2D((2, 2))(x)\n",
        "    decoded = Conv2D(1, (7, 7), activation='sigmoid', padding='same')(x)\n",
        "\n",
        "    encoder = Model(input_img, encoded, name='encoder')\n",
        "    decoder = Model(input_encoded, decoded, name='decoder')\n",
        "    autoencoder = Model(input_img, decoder(encoder(input_img)), name='autoencoder')\n",
        "\n",
        "    return encoder, decoder, autoencoder\n"
      ],
      "execution_count": null,
      "outputs": []
    },
    {
      "cell_type": "code",
      "metadata": {
        "colab": {
          "base_uri": "https://localhost:8080/"
        },
        "id": "-D_lwzhfcXl2",
        "outputId": "f7d3d1b9-0d1a-43f6-a85e-b4d020a6446d"
      },
      "source": [
        "c_encoder, c_decoder, c_autoencoder = create_deep_conv_ae()\n",
        "c_autoencoder.compile(optimizer='adam', loss='binary_crossentropy')\n",
        "\n",
        "c_autoencoder.summary()"
      ],
      "execution_count": null,
      "outputs": [
        {
          "output_type": "stream",
          "text": [
            "Model: \"autoencoder\"\n",
            "_________________________________________________________________\n",
            "Layer (type)                 Output Shape              Param #   \n",
            "=================================================================\n",
            "input_1 (InputLayer)         [(None, 28, 28, 1)]       0         \n",
            "_________________________________________________________________\n",
            "encoder (Functional)         (None, 7, 7, 1)           24385     \n",
            "_________________________________________________________________\n",
            "decoder (Functional)         (None, 28, 28, 1)         24385     \n",
            "=================================================================\n",
            "Total params: 48,770\n",
            "Trainable params: 48,770\n",
            "Non-trainable params: 0\n",
            "_________________________________________________________________\n"
          ],
          "name": "stdout"
        }
      ]
    },
    {
      "cell_type": "code",
      "metadata": {
        "id": "HYzg4WUjctlW"
      },
      "source": [
        "c_autoencoder.fit(x_train, x_train,\n",
        "                epochs=64,\n",
        "                batch_size=256,\n",
        "                shuffle=True,\n",
        "                validation_data=(x_test, x_test))"
      ],
      "execution_count": null,
      "outputs": []
    },
    {
      "cell_type": "code",
      "metadata": {
        "colab": {
          "base_uri": "https://localhost:8080/",
          "height": 149
        },
        "id": "SbxGaOFtcum5",
        "outputId": "83484311-bc07-4cb8-c1ff-7923d83927da"
      },
      "source": [
        "n = 10\n",
        "\n",
        "imgs = x_test[:n]\n",
        "encoded_imgs = c_encoder.predict(imgs, batch_size=n)\n",
        "decoded_imgs = c_decoder.predict(encoded_imgs, batch_size=n)\n",
        "\n",
        "plot_digits(imgs, decoded_imgs)"
      ],
      "execution_count": null,
      "outputs": [
        {
          "output_type": "display_data",
          "data": {
            "image/png": "[encoded data removed]",
            "text/plain": [
              "<Figure size 1440x288 with 20 Axes>"
            ]
          },
          "metadata": {
            "tags": [],
            "needs_background": "light"
          }
        }
      ]
    },
    {
      "cell_type": "markdown",
      "metadata": {
        "id": "OPWXLbKsi-FP"
      },
      "source": [
        "В Keras можно оборачивать произвольные операции из нижележащего фреймворка в Lambda слой. Обращаться к операциям из tensorflow или theano можно через модуль backend.\n"
      ]
    },
    {
      "cell_type": "code",
      "metadata": {
        "id": "DMtkKO0-i-0L"
      },
      "source": [
        "import keras.backend as K\n",
        "from keras.layers import Lambda\n",
        "\n",
        "batch_size = 16\n",
        "\n",
        "def create_denoising_model(autoencoder):\n",
        "    def add_noise(x):\n",
        "        noise_factor = 0.5\n",
        "        x = x + K.random_normal(x.get_shape(), 0.5, noise_factor)\n",
        "        x = K.clip(x,0., 1.)\n",
        "        return x\n",
        "\n",
        "    input_img = Input(batch_shape=(batch_size, 28, 28, 1))\n",
        "    noised_img = Lambda(add_noise)(input_img)\n",
        "\n",
        "    noiser = Model(input_img, noised_img, name='noiser')\n",
        "    denoiser_model = Model(input_img, autoencoder(noiser(input_img)), name='denoiser')\n",
        "\n",
        "    return noiser, denoiser_model"
      ],
      "execution_count": null,
      "outputs": []
    },
    {
      "cell_type": "code",
      "metadata": {
        "id": "8na2ms8nkGqx"
      },
      "source": [
        "noiser, denoiser_model = create_denoising_model(autoencoder)\n",
        "denoiser_model.compile(optimizer='adam', loss='binary_crossentropy')"
      ],
      "execution_count": null,
      "outputs": []
    },
    {
      "cell_type": "code",
      "metadata": {
        "colab": {
          "base_uri": "https://localhost:8080/"
        },
        "id": "9t1xdnBlkg_B",
        "outputId": "9e88ac40-9636-400a-d67a-1b2a51be7856"
      },
      "source": [
        "denoiser_model.summary()"
      ],
      "execution_count": null,
      "outputs": [
        {
          "output_type": "stream",
          "text": [
            "Model: \"denoiser\"\n",
            "_________________________________________________________________\n",
            "Layer (type)                 Output Shape              Param #   \n",
            "=================================================================\n",
            "input_9 (InputLayer)         [(16, 28, 28, 1)]         0         \n",
            "_________________________________________________________________\n",
            "noiser (Functional)          (16, 28, 28, 1)           0         \n",
            "_________________________________________________________________\n",
            "autoencoder (Functional)     (None, 28, 28, 1)         77665     \n",
            "=================================================================\n",
            "Total params: 77,665\n",
            "Trainable params: 77,665\n",
            "Non-trainable params: 0\n",
            "_________________________________________________________________\n"
          ],
          "name": "stdout"
        }
      ]
    },
    {
      "cell_type": "code",
      "metadata": {
        "colab": {
          "base_uri": "https://localhost:8080/"
        },
        "id": "ogdZw6GEkn8J",
        "outputId": "5b02fa83-4a1f-4a13-87e3-6df290773947"
      },
      "source": [
        "denoiser_model.fit(x_train, x_train,\n",
        "                   epochs=200,\n",
        "                   batch_size=batch_size,\n",
        "                   shuffle=True,\n",
        "                   validation_data=(x_test, x_test))"
      ],
      "execution_count": null,
      "outputs": [
        {
          "output_type": "stream",
          "text": [
            "Epoch 1/200\n",
            "3750/3750 [==============================] - 7s 2ms/step - loss: 0.2280 - val_loss: 0.1537\n",
            "Epoch 2/200\n",
            "3750/3750 [==============================] - 7s 2ms/step - loss: 0.1525 - val_loss: 0.1441\n",
            "Epoch 3/200\n",
            "3750/3750 [==============================] - 7s 2ms/step - loss: 0.1449 - val_loss: 0.1418\n",
            "Epoch 4/200\n",
            "3750/3750 [==============================] - 7s 2ms/step - loss: 0.1440 - val_loss: 0.1419\n",
            "Epoch 5/200\n",
            "3750/3750 [==============================] - 7s 2ms/step - loss: 0.1433 - val_loss: 0.1410\n",
            "Epoch 6/200\n",
            "3750/3750 [==============================] - 7s 2ms/step - loss: 0.1432 - val_loss: 0.1423\n",
            "Epoch 7/200\n",
            "3750/3750 [==============================] - 7s 2ms/step - loss: 0.1432 - val_loss: 0.1410\n",
            "Epoch 8/200\n",
            "3750/3750 [==============================] - 7s 2ms/step - loss: 0.1428 - val_loss: 0.1406\n",
            "Epoch 9/200\n",
            "3750/3750 [==============================] - 7s 2ms/step - loss: 0.1430 - val_loss: 0.1410\n",
            "Epoch 10/200\n",
            "3750/3750 [==============================] - 7s 2ms/step - loss: 0.1429 - val_loss: 0.1408\n",
            "Epoch 11/200\n",
            "3750/3750 [==============================] - 7s 2ms/step - loss: 0.1426 - val_loss: 0.1398\n",
            "Epoch 12/200\n",
            "3750/3750 [==============================] - 7s 2ms/step - loss: 0.1423 - val_loss: 0.1412\n",
            "Epoch 13/200\n",
            "3750/3750 [==============================] - 7s 2ms/step - loss: 0.1422 - val_loss: 0.1402\n",
            "Epoch 14/200\n",
            "3750/3750 [==============================] - 7s 2ms/step - loss: 0.1420 - val_loss: 0.1402\n",
            "Epoch 15/200\n",
            "3750/3750 [==============================] - 7s 2ms/step - loss: 0.1420 - val_loss: 0.1398\n",
            "Epoch 16/200\n",
            "3750/3750 [==============================] - 7s 2ms/step - loss: 0.1419 - val_loss: 0.1398\n",
            "Epoch 17/200\n",
            "3750/3750 [==============================] - 7s 2ms/step - loss: 0.1417 - val_loss: 0.1389\n",
            "Epoch 18/200\n",
            "3750/3750 [==============================] - 7s 2ms/step - loss: 0.1416 - val_loss: 0.1392\n",
            "Epoch 19/200\n",
            "3750/3750 [==============================] - 7s 2ms/step - loss: 0.1415 - val_loss: 0.1402\n",
            "Epoch 20/200\n",
            "3750/3750 [==============================] - 7s 2ms/step - loss: 0.1418 - val_loss: 0.1400\n",
            "Epoch 21/200\n",
            "3750/3750 [==============================] - 7s 2ms/step - loss: 0.1416 - val_loss: 0.1389\n",
            "Epoch 22/200\n",
            "3750/3750 [==============================] - 7s 2ms/step - loss: 0.1410 - val_loss: 0.1409\n",
            "Epoch 23/200\n",
            "3750/3750 [==============================] - 7s 2ms/step - loss: 0.1408 - val_loss: 0.1388\n",
            "Epoch 24/200\n",
            "3750/3750 [==============================] - 7s 2ms/step - loss: 0.1411 - val_loss: 0.1390\n",
            "Epoch 25/200\n",
            "3750/3750 [==============================] - 7s 2ms/step - loss: 0.1408 - val_loss: 0.1387\n",
            "Epoch 26/200\n",
            "3750/3750 [==============================] - 7s 2ms/step - loss: 0.1403 - val_loss: 0.1385\n",
            "Epoch 27/200\n",
            "3750/3750 [==============================] - 7s 2ms/step - loss: 0.1406 - val_loss: 0.1381\n",
            "Epoch 28/200\n",
            "3750/3750 [==============================] - 7s 2ms/step - loss: 0.1403 - val_loss: 0.1384\n",
            "Epoch 29/200\n",
            "3750/3750 [==============================] - 7s 2ms/step - loss: 0.1400 - val_loss: 0.1382\n",
            "Epoch 30/200\n",
            "3750/3750 [==============================] - 7s 2ms/step - loss: 0.1403 - val_loss: 0.1382\n",
            "Epoch 31/200\n",
            "3750/3750 [==============================] - 7s 2ms/step - loss: 0.1399 - val_loss: 0.1381\n",
            "Epoch 32/200\n",
            "3750/3750 [==============================] - 7s 2ms/step - loss: 0.1401 - val_loss: 0.1378\n",
            "Epoch 33/200\n",
            "3750/3750 [==============================] - 7s 2ms/step - loss: 0.1402 - val_loss: 0.1378\n",
            "Epoch 34/200\n",
            "3750/3750 [==============================] - 7s 2ms/step - loss: 0.1396 - val_loss: 0.1378\n",
            "Epoch 35/200\n",
            "3750/3750 [==============================] - 7s 2ms/step - loss: 0.1399 - val_loss: 0.1382\n",
            "Epoch 36/200\n",
            "3750/3750 [==============================] - 7s 2ms/step - loss: 0.1397 - val_loss: 0.1378\n",
            "Epoch 37/200\n",
            "3750/3750 [==============================] - 7s 2ms/step - loss: 0.1395 - val_loss: 0.1379\n",
            "Epoch 38/200\n",
            "3750/3750 [==============================] - 7s 2ms/step - loss: 0.1398 - val_loss: 0.1376\n",
            "Epoch 39/200\n",
            "3750/3750 [==============================] - 7s 2ms/step - loss: 0.1395 - val_loss: 0.1384\n",
            "Epoch 40/200\n",
            "3750/3750 [==============================] - 7s 2ms/step - loss: 0.1393 - val_loss: 0.1377\n",
            "Epoch 41/200\n",
            "3750/3750 [==============================] - 7s 2ms/step - loss: 0.1398 - val_loss: 0.1374\n",
            "Epoch 42/200\n",
            "3750/3750 [==============================] - 7s 2ms/step - loss: 0.1398 - val_loss: 0.1377\n",
            "Epoch 43/200\n",
            "3750/3750 [==============================] - 7s 2ms/step - loss: 0.1397 - val_loss: 0.1379\n",
            "Epoch 44/200\n",
            "3750/3750 [==============================] - 7s 2ms/step - loss: 0.1395 - val_loss: 0.1380\n",
            "Epoch 45/200\n",
            "3750/3750 [==============================] - 7s 2ms/step - loss: 0.1392 - val_loss: 0.1374\n",
            "Epoch 46/200\n",
            "3750/3750 [==============================] - 7s 2ms/step - loss: 0.1395 - val_loss: 0.1370\n",
            "Epoch 47/200\n",
            "3750/3750 [==============================] - 7s 2ms/step - loss: 0.1394 - val_loss: 0.1371\n",
            "Epoch 48/200\n",
            "3750/3750 [==============================] - 7s 2ms/step - loss: 0.1394 - val_loss: 0.1372\n",
            "Epoch 49/200\n",
            "3750/3750 [==============================] - 7s 2ms/step - loss: 0.1393 - val_loss: 0.1372\n",
            "Epoch 50/200\n",
            "3750/3750 [==============================] - 7s 2ms/step - loss: 0.1393 - val_loss: 0.1370\n",
            "Epoch 51/200\n",
            "3750/3750 [==============================] - 7s 2ms/step - loss: 0.1391 - val_loss: 0.1375\n",
            "Epoch 52/200\n",
            "3750/3750 [==============================] - 7s 2ms/step - loss: 0.1390 - val_loss: 0.1381\n",
            "Epoch 53/200\n",
            "3750/3750 [==============================] - 7s 2ms/step - loss: 0.1390 - val_loss: 0.1375\n",
            "Epoch 54/200\n",
            "3750/3750 [==============================] - 7s 2ms/step - loss: 0.1391 - val_loss: 0.1370\n",
            "Epoch 55/200\n",
            "3750/3750 [==============================] - 7s 2ms/step - loss: 0.1392 - val_loss: 0.1368\n",
            "Epoch 56/200\n",
            "3750/3750 [==============================] - 7s 2ms/step - loss: 0.1390 - val_loss: 0.1372\n",
            "Epoch 57/200\n",
            "3750/3750 [==============================] - 7s 2ms/step - loss: 0.1390 - val_loss: 0.1369\n",
            "Epoch 58/200\n",
            "3750/3750 [==============================] - 7s 2ms/step - loss: 0.1391 - val_loss: 0.1375\n",
            "Epoch 59/200\n",
            "3750/3750 [==============================] - 7s 2ms/step - loss: 0.1389 - val_loss: 0.1371\n",
            "Epoch 60/200\n",
            "3750/3750 [==============================] - 7s 2ms/step - loss: 0.1390 - val_loss: 0.1367\n",
            "Epoch 61/200\n",
            "3750/3750 [==============================] - 7s 2ms/step - loss: 0.1389 - val_loss: 0.1368\n",
            "Epoch 62/200\n",
            "3750/3750 [==============================] - 7s 2ms/step - loss: 0.1389 - val_loss: 0.1371\n",
            "Epoch 63/200\n",
            "3750/3750 [==============================] - 7s 2ms/step - loss: 0.1391 - val_loss: 0.1371\n",
            "Epoch 64/200\n",
            "3750/3750 [==============================] - 7s 2ms/step - loss: 0.1393 - val_loss: 0.1367\n",
            "Epoch 65/200\n",
            "3750/3750 [==============================] - 7s 2ms/step - loss: 0.1389 - val_loss: 0.1371\n",
            "Epoch 66/200\n",
            "3750/3750 [==============================] - 7s 2ms/step - loss: 0.1392 - val_loss: 0.1368\n",
            "Epoch 67/200\n",
            "3750/3750 [==============================] - 7s 2ms/step - loss: 0.1392 - val_loss: 0.1376\n",
            "Epoch 68/200\n",
            "3750/3750 [==============================] - 7s 2ms/step - loss: 0.1390 - val_loss: 0.1365\n",
            "Epoch 69/200\n",
            "3750/3750 [==============================] - 7s 2ms/step - loss: 0.1389 - val_loss: 0.1374\n",
            "Epoch 70/200\n",
            "3750/3750 [==============================] - 7s 2ms/step - loss: 0.1391 - val_loss: 0.1362\n",
            "Epoch 71/200\n",
            "3750/3750 [==============================] - 7s 2ms/step - loss: 0.1391 - val_loss: 0.1380\n",
            "Epoch 72/200\n",
            "3750/3750 [==============================] - 7s 2ms/step - loss: 0.1390 - val_loss: 0.1366\n",
            "Epoch 73/200\n",
            "3750/3750 [==============================] - 7s 2ms/step - loss: 0.1387 - val_loss: 0.1376\n",
            "Epoch 74/200\n",
            "3750/3750 [==============================] - 7s 2ms/step - loss: 0.1387 - val_loss: 0.1373\n",
            "Epoch 75/200\n",
            "3750/3750 [==============================] - 7s 2ms/step - loss: 0.1389 - val_loss: 0.1364\n",
            "Epoch 76/200\n",
            "3750/3750 [==============================] - 7s 2ms/step - loss: 0.1388 - val_loss: 0.1363\n",
            "Epoch 77/200\n",
            "3750/3750 [==============================] - 7s 2ms/step - loss: 0.1392 - val_loss: 0.1377\n",
            "Epoch 78/200\n",
            "3750/3750 [==============================] - 7s 2ms/step - loss: 0.1387 - val_loss: 0.1371\n",
            "Epoch 79/200\n",
            "3750/3750 [==============================] - 7s 2ms/step - loss: 0.1389 - val_loss: 0.1367\n",
            "Epoch 80/200\n",
            "3750/3750 [==============================] - 7s 2ms/step - loss: 0.1386 - val_loss: 0.1368\n",
            "Epoch 81/200\n",
            "3750/3750 [==============================] - 7s 2ms/step - loss: 0.1391 - val_loss: 0.1363\n",
            "Epoch 82/200\n",
            "3750/3750 [==============================] - 7s 2ms/step - loss: 0.1388 - val_loss: 0.1365\n",
            "Epoch 83/200\n",
            "3750/3750 [==============================] - 7s 2ms/step - loss: 0.1390 - val_loss: 0.1370\n",
            "Epoch 84/200\n",
            "3750/3750 [==============================] - 7s 2ms/step - loss: 0.1387 - val_loss: 0.1362\n",
            "Epoch 85/200\n",
            "3750/3750 [==============================] - 7s 2ms/step - loss: 0.1389 - val_loss: 0.1374\n",
            "Epoch 86/200\n",
            "3750/3750 [==============================] - 7s 2ms/step - loss: 0.1387 - val_loss: 0.1362\n",
            "Epoch 87/200\n",
            "3750/3750 [==============================] - 7s 2ms/step - loss: 0.1389 - val_loss: 0.1366\n",
            "Epoch 88/200\n",
            "3750/3750 [==============================] - 7s 2ms/step - loss: 0.1388 - val_loss: 0.1363\n",
            "Epoch 89/200\n",
            "3750/3750 [==============================] - 7s 2ms/step - loss: 0.1389 - val_loss: 0.1372\n",
            "Epoch 90/200\n",
            "3750/3750 [==============================] - 7s 2ms/step - loss: 0.1386 - val_loss: 0.1372\n",
            "Epoch 91/200\n",
            "3750/3750 [==============================] - 7s 2ms/step - loss: 0.1386 - val_loss: 0.1364\n",
            "Epoch 92/200\n",
            "3750/3750 [==============================] - 7s 2ms/step - loss: 0.1387 - val_loss: 0.1371\n",
            "Epoch 93/200\n",
            "3750/3750 [==============================] - 7s 2ms/step - loss: 0.1392 - val_loss: 0.1363\n",
            "Epoch 94/200\n",
            "3750/3750 [==============================] - 7s 2ms/step - loss: 0.1388 - val_loss: 0.1364\n",
            "Epoch 95/200\n",
            "3750/3750 [==============================] - 7s 2ms/step - loss: 0.1390 - val_loss: 0.1363\n",
            "Epoch 96/200\n",
            "3750/3750 [==============================] - 7s 2ms/step - loss: 0.1385 - val_loss: 0.1369\n",
            "Epoch 97/200\n",
            "3750/3750 [==============================] - 7s 2ms/step - loss: 0.1384 - val_loss: 0.1365\n",
            "Epoch 98/200\n",
            "3750/3750 [==============================] - 7s 2ms/step - loss: 0.1386 - val_loss: 0.1364\n",
            "Epoch 99/200\n",
            "3750/3750 [==============================] - 7s 2ms/step - loss: 0.1386 - val_loss: 0.1364\n",
            "Epoch 100/200\n",
            "3750/3750 [==============================] - 7s 2ms/step - loss: 0.1387 - val_loss: 0.1372\n",
            "Epoch 101/200\n",
            "3750/3750 [==============================] - 7s 2ms/step - loss: 0.1388 - val_loss: 0.1366\n",
            "Epoch 102/200\n",
            "3750/3750 [==============================] - 7s 2ms/step - loss: 0.1387 - val_loss: 0.1364\n",
            "Epoch 103/200\n",
            "3750/3750 [==============================] - 7s 2ms/step - loss: 0.1387 - val_loss: 0.1369\n",
            "Epoch 104/200\n",
            "3750/3750 [==============================] - 7s 2ms/step - loss: 0.1386 - val_loss: 0.1369\n",
            "Epoch 105/200\n",
            "3750/3750 [==============================] - 7s 2ms/step - loss: 0.1386 - val_loss: 0.1363\n",
            "Epoch 106/200\n",
            "3750/3750 [==============================] - 7s 2ms/step - loss: 0.1387 - val_loss: 0.1365\n",
            "Epoch 107/200\n",
            "3750/3750 [==============================] - 7s 2ms/step - loss: 0.1387 - val_loss: 0.1368\n",
            "Epoch 108/200\n",
            "3750/3750 [==============================] - 7s 2ms/step - loss: 0.1385 - val_loss: 0.1367\n",
            "Epoch 109/200\n",
            "3750/3750 [==============================] - 7s 2ms/step - loss: 0.1387 - val_loss: 0.1362\n",
            "Epoch 110/200\n",
            "3750/3750 [==============================] - 7s 2ms/step - loss: 0.1385 - val_loss: 0.1365\n",
            "Epoch 111/200\n",
            "3750/3750 [==============================] - 7s 2ms/step - loss: 0.1385 - val_loss: 0.1366\n",
            "Epoch 112/200\n",
            "3750/3750 [==============================] - 7s 2ms/step - loss: 0.1386 - val_loss: 0.1369\n",
            "Epoch 113/200\n",
            "3750/3750 [==============================] - 7s 2ms/step - loss: 0.1387 - val_loss: 0.1371\n",
            "Epoch 114/200\n",
            "3750/3750 [==============================] - 7s 2ms/step - loss: 0.1384 - val_loss: 0.1367\n",
            "Epoch 115/200\n",
            "3750/3750 [==============================] - 7s 2ms/step - loss: 0.1386 - val_loss: 0.1370\n",
            "Epoch 116/200\n",
            "3750/3750 [==============================] - 7s 2ms/step - loss: 0.1387 - val_loss: 0.1365\n",
            "Epoch 117/200\n",
            "3750/3750 [==============================] - 7s 2ms/step - loss: 0.1385 - val_loss: 0.1359\n",
            "Epoch 118/200\n",
            "3750/3750 [==============================] - 7s 2ms/step - loss: 0.1384 - val_loss: 0.1360\n",
            "Epoch 119/200\n",
            "3750/3750 [==============================] - 7s 2ms/step - loss: 0.1385 - val_loss: 0.1363\n",
            "Epoch 120/200\n",
            "3750/3750 [==============================] - 7s 2ms/step - loss: 0.1389 - val_loss: 0.1363\n",
            "Epoch 121/200\n",
            "3750/3750 [==============================] - 7s 2ms/step - loss: 0.1384 - val_loss: 0.1367\n",
            "Epoch 122/200\n",
            "3750/3750 [==============================] - 7s 2ms/step - loss: 0.1386 - val_loss: 0.1360\n",
            "Epoch 123/200\n",
            "3750/3750 [==============================] - 7s 2ms/step - loss: 0.1386 - val_loss: 0.1368\n",
            "Epoch 124/200\n",
            "3750/3750 [==============================] - 7s 2ms/step - loss: 0.1387 - val_loss: 0.1367\n",
            "Epoch 125/200\n",
            "3750/3750 [==============================] - 7s 2ms/step - loss: 0.1385 - val_loss: 0.1362\n",
            "Epoch 126/200\n",
            "3750/3750 [==============================] - 7s 2ms/step - loss: 0.1384 - val_loss: 0.1366\n",
            "Epoch 127/200\n",
            "3750/3750 [==============================] - 7s 2ms/step - loss: 0.1386 - val_loss: 0.1363\n",
            "Epoch 128/200\n",
            "3750/3750 [==============================] - 7s 2ms/step - loss: 0.1384 - val_loss: 0.1364\n",
            "Epoch 129/200\n",
            "3750/3750 [==============================] - 7s 2ms/step - loss: 0.1385 - val_loss: 0.1370\n",
            "Epoch 130/200\n",
            "3750/3750 [==============================] - 7s 2ms/step - loss: 0.1384 - val_loss: 0.1363\n",
            "Epoch 131/200\n",
            "3750/3750 [==============================] - 7s 2ms/step - loss: 0.1382 - val_loss: 0.1370\n",
            "Epoch 132/200\n",
            "3750/3750 [==============================] - 7s 2ms/step - loss: 0.1384 - val_loss: 0.1365\n",
            "Epoch 133/200\n",
            "3750/3750 [==============================] - 7s 2ms/step - loss: 0.1383 - val_loss: 0.1361\n",
            "Epoch 134/200\n",
            "3750/3750 [==============================] - 7s 2ms/step - loss: 0.1384 - val_loss: 0.1363\n",
            "Epoch 135/200\n",
            "3750/3750 [==============================] - 7s 2ms/step - loss: 0.1384 - val_loss: 0.1359\n",
            "Epoch 136/200\n",
            "3750/3750 [==============================] - 7s 2ms/step - loss: 0.1385 - val_loss: 0.1366\n",
            "Epoch 137/200\n",
            "3750/3750 [==============================] - 7s 2ms/step - loss: 0.1384 - val_loss: 0.1361\n",
            "Epoch 138/200\n",
            "3750/3750 [==============================] - 7s 2ms/step - loss: 0.1386 - val_loss: 0.1366\n",
            "Epoch 139/200\n",
            "3750/3750 [==============================] - 7s 2ms/step - loss: 0.1383 - val_loss: 0.1372\n",
            "Epoch 140/200\n",
            "3750/3750 [==============================] - 7s 2ms/step - loss: 0.1385 - val_loss: 0.1370\n",
            "Epoch 141/200\n",
            "3750/3750 [==============================] - 8s 2ms/step - loss: 0.1385 - val_loss: 0.1367\n",
            "Epoch 142/200\n",
            "3750/3750 [==============================] - 7s 2ms/step - loss: 0.1386 - val_loss: 0.1372\n",
            "Epoch 143/200\n",
            "3750/3750 [==============================] - 7s 2ms/step - loss: 0.1384 - val_loss: 0.1362\n",
            "Epoch 144/200\n",
            "3750/3750 [==============================] - 7s 2ms/step - loss: 0.1385 - val_loss: 0.1365\n",
            "Epoch 145/200\n",
            "3750/3750 [==============================] - 7s 2ms/step - loss: 0.1383 - val_loss: 0.1365\n",
            "Epoch 146/200\n",
            "3750/3750 [==============================] - 7s 2ms/step - loss: 0.1384 - val_loss: 0.1360\n",
            "Epoch 147/200\n",
            "3750/3750 [==============================] - 7s 2ms/step - loss: 0.1383 - val_loss: 0.1363\n",
            "Epoch 148/200\n",
            "3750/3750 [==============================] - 7s 2ms/step - loss: 0.1384 - val_loss: 0.1361\n",
            "Epoch 149/200\n",
            "3750/3750 [==============================] - 7s 2ms/step - loss: 0.1385 - val_loss: 0.1363\n",
            "Epoch 150/200\n",
            "3750/3750 [==============================] - 7s 2ms/step - loss: 0.1384 - val_loss: 0.1363\n",
            "Epoch 151/200\n",
            "3750/3750 [==============================] - 7s 2ms/step - loss: 0.1382 - val_loss: 0.1363\n",
            "Epoch 152/200\n",
            "3750/3750 [==============================] - 7s 2ms/step - loss: 0.1383 - val_loss: 0.1360\n",
            "Epoch 153/200\n",
            "3750/3750 [==============================] - 7s 2ms/step - loss: 0.1385 - val_loss: 0.1357\n",
            "Epoch 154/200\n",
            "3750/3750 [==============================] - 7s 2ms/step - loss: 0.1384 - val_loss: 0.1359\n",
            "Epoch 155/200\n",
            "3750/3750 [==============================] - 7s 2ms/step - loss: 0.1385 - val_loss: 0.1363\n",
            "Epoch 156/200\n",
            "3750/3750 [==============================] - 7s 2ms/step - loss: 0.1384 - val_loss: 0.1377\n",
            "Epoch 157/200\n",
            "3750/3750 [==============================] - 7s 2ms/step - loss: 0.1385 - val_loss: 0.1362\n",
            "Epoch 158/200\n",
            "3750/3750 [==============================] - 7s 2ms/step - loss: 0.1383 - val_loss: 0.1361\n",
            "Epoch 159/200\n",
            "3750/3750 [==============================] - 7s 2ms/step - loss: 0.1385 - val_loss: 0.1362\n",
            "Epoch 160/200\n",
            "3750/3750 [==============================] - 7s 2ms/step - loss: 0.1382 - val_loss: 0.1364\n",
            "Epoch 161/200\n",
            "3750/3750 [==============================] - 7s 2ms/step - loss: 0.1382 - val_loss: 0.1367\n",
            "Epoch 162/200\n",
            "3750/3750 [==============================] - 7s 2ms/step - loss: 0.1381 - val_loss: 0.1365\n",
            "Epoch 163/200\n",
            "3750/3750 [==============================] - 7s 2ms/step - loss: 0.1381 - val_loss: 0.1364\n",
            "Epoch 164/200\n",
            "3750/3750 [==============================] - 7s 2ms/step - loss: 0.1385 - val_loss: 0.1362\n",
            "Epoch 165/200\n",
            "3750/3750 [==============================] - 7s 2ms/step - loss: 0.1383 - val_loss: 0.1363\n",
            "Epoch 166/200\n",
            "3750/3750 [==============================] - 7s 2ms/step - loss: 0.1382 - val_loss: 0.1362\n",
            "Epoch 167/200\n",
            "3750/3750 [==============================] - 7s 2ms/step - loss: 0.1381 - val_loss: 0.1365\n",
            "Epoch 168/200\n",
            "3750/3750 [==============================] - 7s 2ms/step - loss: 0.1383 - val_loss: 0.1367\n",
            "Epoch 169/200\n",
            "3750/3750 [==============================] - 7s 2ms/step - loss: 0.1382 - val_loss: 0.1369\n",
            "Epoch 170/200\n",
            "3750/3750 [==============================] - 7s 2ms/step - loss: 0.1384 - val_loss: 0.1359\n",
            "Epoch 171/200\n",
            "3750/3750 [==============================] - 7s 2ms/step - loss: 0.1381 - val_loss: 0.1365\n",
            "Epoch 172/200\n",
            "3750/3750 [==============================] - 7s 2ms/step - loss: 0.1380 - val_loss: 0.1364\n",
            "Epoch 173/200\n",
            "3750/3750 [==============================] - 7s 2ms/step - loss: 0.1384 - val_loss: 0.1362\n",
            "Epoch 174/200\n",
            "3750/3750 [==============================] - 7s 2ms/step - loss: 0.1384 - val_loss: 0.1364\n",
            "Epoch 175/200\n",
            "3750/3750 [==============================] - 7s 2ms/step - loss: 0.1383 - val_loss: 0.1362\n",
            "Epoch 176/200\n",
            "3750/3750 [==============================] - 7s 2ms/step - loss: 0.1386 - val_loss: 0.1360\n",
            "Epoch 177/200\n",
            "3750/3750 [==============================] - 7s 2ms/step - loss: 0.1380 - val_loss: 0.1360\n",
            "Epoch 178/200\n",
            "3750/3750 [==============================] - 7s 2ms/step - loss: 0.1380 - val_loss: 0.1361\n",
            "Epoch 179/200\n",
            "3750/3750 [==============================] - 7s 2ms/step - loss: 0.1380 - val_loss: 0.1363\n",
            "Epoch 180/200\n",
            "3750/3750 [==============================] - 7s 2ms/step - loss: 0.1381 - val_loss: 0.1362\n",
            "Epoch 181/200\n",
            "3750/3750 [==============================] - 7s 2ms/step - loss: 0.1382 - val_loss: 0.1360\n",
            "Epoch 182/200\n",
            "3750/3750 [==============================] - 7s 2ms/step - loss: 0.1382 - val_loss: 0.1360\n",
            "Epoch 183/200\n",
            "3750/3750 [==============================] - 7s 2ms/step - loss: 0.1382 - val_loss: 0.1363\n",
            "Epoch 184/200\n",
            "3750/3750 [==============================] - 7s 2ms/step - loss: 0.1381 - val_loss: 0.1367\n",
            "Epoch 185/200\n",
            "3750/3750 [==============================] - 7s 2ms/step - loss: 0.1380 - val_loss: 0.1360\n",
            "Epoch 186/200\n",
            "3750/3750 [==============================] - 7s 2ms/step - loss: 0.1379 - val_loss: 0.1359\n",
            "Epoch 187/200\n",
            "3750/3750 [==============================] - 7s 2ms/step - loss: 0.1384 - val_loss: 0.1363\n",
            "Epoch 188/200\n",
            "3750/3750 [==============================] - 7s 2ms/step - loss: 0.1382 - val_loss: 0.1367\n",
            "Epoch 189/200\n",
            "3750/3750 [==============================] - 7s 2ms/step - loss: 0.1382 - val_loss: 0.1359\n",
            "Epoch 190/200\n",
            "3750/3750 [==============================] - 7s 2ms/step - loss: 0.1384 - val_loss: 0.1359\n",
            "Epoch 191/200\n",
            "3750/3750 [==============================] - 7s 2ms/step - loss: 0.1383 - val_loss: 0.1361\n",
            "Epoch 192/200\n",
            "3750/3750 [==============================] - 7s 2ms/step - loss: 0.1380 - val_loss: 0.1362\n",
            "Epoch 193/200\n",
            "3750/3750 [==============================] - 7s 2ms/step - loss: 0.1384 - val_loss: 0.1366\n",
            "Epoch 194/200\n",
            "3750/3750 [==============================] - 7s 2ms/step - loss: 0.1382 - val_loss: 0.1369\n",
            "Epoch 195/200\n",
            "3750/3750 [==============================] - 7s 2ms/step - loss: 0.1382 - val_loss: 0.1368\n",
            "Epoch 196/200\n",
            "3750/3750 [==============================] - 7s 2ms/step - loss: 0.1381 - val_loss: 0.1360\n",
            "Epoch 197/200\n",
            "3750/3750 [==============================] - 7s 2ms/step - loss: 0.1382 - val_loss: 0.1360\n",
            "Epoch 198/200\n",
            "3750/3750 [==============================] - 7s 2ms/step - loss: 0.1383 - val_loss: 0.1358\n",
            "Epoch 199/200\n",
            "3750/3750 [==============================] - 7s 2ms/step - loss: 0.1382 - val_loss: 0.1363\n",
            "Epoch 200/200\n",
            "3750/3750 [==============================] - 7s 2ms/step - loss: 0.1383 - val_loss: 0.1366\n"
          ],
          "name": "stdout"
        },
        {
          "output_type": "execute_result",
          "data": {
            "text/plain": [
              "<tensorflow.python.keras.callbacks.History at 0x7f4ab3bad3c8>"
            ]
          },
          "metadata": {
            "tags": []
          },
          "execution_count": 34
        }
      ]
    },
    {
      "cell_type": "code",
      "metadata": {
        "colab": {
          "base_uri": "https://localhost:8080/",
          "height": 250
        },
        "id": "4PQezNNTlaaD",
        "outputId": "04e566f3-c4e3-4ee8-cff2-837dc7ddb164"
      },
      "source": [
        "n = 10\n",
        "\n",
        "imgs = x_test[:batch_size]\n",
        "noised_imgs = noiser.predict(imgs, batch_size=batch_size)\n",
        "encoded_imgs = encoder.predict(noised_imgs[:n],  batch_size=n)\n",
        "decoded_imgs = decoder.predict(encoded_imgs[:n], batch_size=n)\n",
        "\n",
        "plot_digits(imgs[:n], noised_imgs, decoded_imgs)"
      ],
      "execution_count": null,
      "outputs": [
        {
          "output_type": "stream",
          "text": [
            "WARNING:tensorflow:5 out of the last 5 calls to <function Model.make_predict_function.<locals>.predict_function at 0x7f4ab32a8f28> triggered tf.function retracing. Tracing is expensive and the excessive number of tracings could be due to (1) creating @tf.function repeatedly in a loop, (2) passing tensors with different shapes, (3) passing Python objects instead of tensors. For (1), please define your @tf.function outside of the loop. For (2), @tf.function has experimental_relax_shapes=True option that relaxes argument shapes that can avoid unnecessary retracing. For (3), please refer to https://www.tensorflow.org/guide/function#controlling_retracing and https://www.tensorflow.org/api_docs/python/tf/function for  more details.\n"
          ],
          "name": "stdout"
        },
        {
          "output_type": "display_data",
          "data": {
            "image/png": "[encoded data removed]",
            "text/plain": [
              "<Figure size 1440x432 with 30 Axes>"
            ]
          },
          "metadata": {
            "tags": [],
            "needs_background": "light"
          }
        }
      ]
    },
    {
      "cell_type": "code",
      "metadata": {
        "id": "FGVzjSd9snMP"
      },
      "source": [
        "from keras.regularizers import L1L2\n",
        "\n",
        "def create_sparse_ae():\n",
        "    encoding_dim = 16\n",
        "    lambda_l1 = 0.00001\n",
        "    \n",
        "    # Энкодер\n",
        "    input_img = Input(shape=(28, 28, 1))\n",
        "    flat_img = Flatten()(input_img)\n",
        "    x = Dense(encoding_dim*3, activation='relu')(flat_img)\n",
        "    x = Dense(encoding_dim*2, activation='relu')(x)\n",
        "    encoded = Dense(encoding_dim, activation='linear', activity_regularizer=L1L2(lambda_l1))(x)\n",
        "    \n",
        "    # Декодер\n",
        "    input_encoded = Input(shape=(encoding_dim,))\n",
        "    x = Dense(encoding_dim*2, activation='relu')(input_encoded)\n",
        "    x = Dense(encoding_dim*3, activation='relu')(x)\n",
        "    flat_decoded = Dense(28*28, activation='sigmoid')(x)\n",
        "    decoded = Reshape((28, 28, 1))(flat_decoded)\n",
        "    \n",
        "    # Модели\n",
        "    encoder = Model(input_img, encoded, name=\"encoder\")\n",
        "    decoder = Model(input_encoded, decoded, name=\"decoder\")\n",
        "    autoencoder = Model(input_img, decoder(encoder(input_img)), name=\"autoencoder\")\n",
        "    \n",
        "    return encoder, decoder, autoencoder"
      ],
      "execution_count": null,
      "outputs": []
    },
    {
      "cell_type": "code",
      "metadata": {
        "id": "MmzfYVObsse3"
      },
      "source": [
        "s_encoder, s_decoder, s_autoencoder = create_sparse_ae()\n",
        "s_autoencoder.compile(optimizer='adam', loss='binary_crossentropy')"
      ],
      "execution_count": null,
      "outputs": []
    },
    {
      "cell_type": "code",
      "metadata": {
        "id": "MHCvVNSlsu84"
      },
      "source": [
        "s_autoencoder.fit(x_train, x_train,\n",
        "                epochs=400,\n",
        "                batch_size=256,\n",
        "                shuffle=True,\n",
        "                validation_data=(x_test, x_test))"
      ],
      "execution_count": null,
      "outputs": []
    },
    {
      "cell_type": "code",
      "metadata": {
        "colab": {
          "base_uri": "https://localhost:8080/",
          "height": 204
        },
        "id": "O29yw1DWsy39",
        "outputId": "fe452deb-6166-4f58-b324-253bb7f82969"
      },
      "source": [
        "n = 10\n",
        "\n",
        "imgs = x_test[:n]\n",
        "\n",
        "encoded_imgs = s_encoder.predict(imgs, batch_size=n)\n",
        "decoded_imgs = s_decoder.predict(encoded_imgs, batch_size=n)\n",
        "\n",
        "plot_digits(imgs, decoded_imgs)"
      ],
      "execution_count": null,
      "outputs": [
        {
          "output_type": "stream",
          "text": [
            "WARNING:tensorflow:6 out of the last 6 calls to <function Model.make_predict_function.<locals>.predict_function at 0x7f4b8a654268> triggered tf.function retracing. Tracing is expensive and the excessive number of tracings could be due to (1) creating @tf.function repeatedly in a loop, (2) passing tensors with different shapes, (3) passing Python objects instead of tensors. For (1), please define your @tf.function outside of the loop. For (2), @tf.function has experimental_relax_shapes=True option that relaxes argument shapes that can avoid unnecessary retracing. For (3), please refer to https://www.tensorflow.org/guide/function#controlling_retracing and https://www.tensorflow.org/api_docs/python/tf/function for  more details.\n",
            "WARNING:tensorflow:7 out of the last 7 calls to <function Model.make_predict_function.<locals>.predict_function at 0x7f4ab32a88c8> triggered tf.function retracing. Tracing is expensive and the excessive number of tracings could be due to (1) creating @tf.function repeatedly in a loop, (2) passing tensors with different shapes, (3) passing Python objects instead of tensors. For (1), please define your @tf.function outside of the loop. For (2), @tf.function has experimental_relax_shapes=True option that relaxes argument shapes that can avoid unnecessary retracing. For (3), please refer to https://www.tensorflow.org/guide/function#controlling_retracing and https://www.tensorflow.org/api_docs/python/tf/function for  more details.\n"
          ],
          "name": "stdout"
        },
        {
          "output_type": "display_data",
          "data": {
            "image/png": "[encoded data removed]",
            "text/plain": [
              "<Figure size 1440x288 with 20 Axes>"
            ]
          },
          "metadata": {
            "tags": [],
            "needs_background": "light"
          }
        }
      ]
    }
  ]
}