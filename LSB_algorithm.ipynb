{
  "cells": [
    {
      "cell_type": "markdown",
      "metadata": {
        "id": "view-in-github",
        "colab_type": "text"
      },
      "source": [
        "<a href=\"https://colab.research.google.com/github/Eugene31415/Pet-Projects/blob/main/LSB_algorithm.ipynb\" target=\"_parent\"><img src=\"https://colab.research.google.com/assets/colab-badge.svg\" alt=\"Open In Colab\"/></a>"
      ]
    },
    {
      "cell_type": "code",
      "execution_count": null,
      "metadata": {
        "id": "Y6rXKD2MsTXg"
      },
      "outputs": [],
      "source": [
        "from PIL import Image # Library for image processing\n",
        "import random # Random generator"
      ]
    },
    {
      "cell_type": "code",
      "execution_count": null,
      "metadata": {
        "id": "fAZhkpRKsTXk"
      },
      "outputs": [],
      "source": [
        "def string_to_bin_chain(message_string):\n",
        "    chain = list() # Variable to store bin chain\n",
        "    for character in message_string: # main loop. We iterate character by character through the text\n",
        "        binary_string = '{0:08b}'.format(ord(character)) # Transfrom every letter to bin code (8 bit)\n",
        "        for value in binary_string: # Append every of 8 bits into chain variable\n",
        "            chain.append(int(value))\n",
        "    return chain # Return bin sequence"
      ]
    },
    {
      "cell_type": "code",
      "execution_count": null,
      "metadata": {
        "id": "wJG1z8m8sTXl"
      },
      "outputs": [],
      "source": [
        "def bin_chain_to_string(chain, secure_anchor):\n",
        "    message_string = '' # Result variable to store answer\n",
        "    chain_pointer = 0\n",
        "    while chain_pointer + 8 <= len(chain): # Iterate through all bin sequence with 8 bit step to read exactly one letter\n",
        "        binary_string = ''.join(str(x) for x in chain[chain_pointer:chain_pointer + 8]) # Take 8 bits and concate into a string\n",
        "        message_string += chr(int(binary_string, 2)) # Transform these 8 bits into a character\n",
        "        chain_pointer += 8 # Increment by 8 such as there are exactly 8 bits to store one letter\n",
        "        if len(message_string) > len(secure_anchor) and message_string[-(len(secure_anchor)):] == secure_anchor:\n",
        "            break # Условие на то, сколько продолжать считывать и когда останавливаться\n",
        "    return message_string[:-(len(secure_anchor))] # Возвращаем все сообщение, не включая защитный якорь"
      ]
    },
    {
      "cell_type": "code",
      "execution_count": null,
      "metadata": {
        "id": "YndE9o1usTXn"
      },
      "outputs": [],
      "source": [
        "def decode_pixel(rgba_tuple):\n",
        "    binary_red = int('{0:08b}'.format(rgba_tuple[0])[-1], base=2) # Берем последний бит\n",
        "    binary_green = int('{0:08b}'.format(rgba_tuple[1])[-1], base=2)\n",
        "    binary_blue = int('{0:08b}'.format(rgba_tuple[2])[-1], base=2)\n",
        "    binary_alpha = int('{0:08b}'.format(rgba_tuple[3])[-1], base=2)\n",
        "    return [binary_red, binary_green, binary_blue, binary_alpha] # Возвращаем последние биты каждого канала"
      ]
    },
    {
      "cell_type": "code",
      "execution_count": null,
      "metadata": {
        "id": "S_6f73M_sTXn"
      },
      "outputs": [],
      "source": [
        "# Function for reading text\n",
        "def load_text(text_path, secure_anchor):\n",
        "    with open(text_path, 'r', encoding='utf-8') as f: # Opens a file for reading with unf-8 encoding\n",
        "        text = f.read() # Reads file and puts it into text variable\n",
        "    text += secure_anchor # Places secure_anchor at the end of a string (for example ++++++++++)\n",
        "    return text # Returns this modified text"
      ]
    },
    {
      "cell_type": "code",
      "execution_count": null,
      "metadata": {
        "id": "rnTB6MzosTXo"
      },
      "outputs": [],
      "source": [
        "def decode_image(image_path, secure_anchor='++++++++++'):\n",
        "    im = Image.open(image_path) # Open image\n",
        "    im = im.convert(\"RGBA\") # Convert from RGB to RGBA\n",
        "    pixel_tuples = im.getdata() # Get 1d array of all pixels\n",
        "    message_chain = list() # container for bits of decoded message\n",
        "    for pixel_item in pixel_tuples: # Iterate through all pixels in the image\n",
        "        message_chain_list = decode_pixel(pixel_item) # Получаем последние биты каждого канала в пикселе\n",
        "        message_chain.append(message_chain_list[0]) # Добавляем их всех в ответ\n",
        "        message_chain.append(message_chain_list[1])\n",
        "        message_chain.append(message_chain_list[2])\n",
        "        message_chain.append(message_chain_list[3])\n",
        "    return bin_chain_to_string(message_chain, secure_anchor) # переводим в текст с помощью bin_chain_to_string и возвращаем"
      ]
    },
    {
      "cell_type": "code",
      "execution_count": null,
      "metadata": {
        "id": "NEJSd_gcsTXo"
      },
      "outputs": [],
      "source": [
        "'''У нас каждый пиксель представлен комбинацией из 4х цветов -RGBA, где А - это Альфа. Эта он всегда 255, то есть\n",
        "самый яркий. В нашем случае эта штука расширяет кол-во цветовых каналов в каждом\n",
        "пикселе. Теперь их не 3 как в RGB, а 4 - RGBA, что позволяет в каждый пиксель запульнуть 4 бита'''\n",
        "def encode_pixel(rgba_tuple, message_slice):\n",
        "    '''Первый аргумент - пиксели картинка, второй - 4 бита (в нашем случае) от бинарной цепочки'''\n",
        "    binary_red = '{0:08b}'.format(rgba_tuple[0])[:7] + str(message_slice[0]) # берем первые 7 пикселей и добавляем 8 ой пиксель\n",
        "    binary_green = '{0:08b}'.format(rgba_tuple[1])[:7] + str(message_slice[1])# Где 8ой пиксель это уже пискель текста \n",
        "    binary_blue = '{0:08b}'.format(rgba_tuple[2])[:7] + str(message_slice[2])\n",
        "    binary_alpha = '{0:08b}'.format(rgba_tuple[3])[:7] + str(message_slice[3])\n",
        "    return (\n",
        "        int(binary_red, base=2), # переводим обратно в числа в 10ой системе и возвращаем кортеж\n",
        "        int(binary_green, base=2),\n",
        "        int(binary_blue, base=2),\n",
        "        int(binary_alpha, base=2)\n",
        "    )"
      ]
    },
    {
      "cell_type": "code",
      "execution_count": null,
      "metadata": {
        "id": "pZhe9DFwsTXp"
      },
      "outputs": [],
      "source": [
        "def encode_image(image_path, text_path, save_path, secure_anchor='++++++++++'):\n",
        "    im = Image.open(image_path) # Read the image\n",
        "    im = im.convert(\"RGBA\") # Convert from RGB to RGBA where A means alpha\n",
        "    pixel_tuples = im.getdata() # Creates a 1d vector of all pixels in the image  \n",
        "    message = load_text(text_path, secure_anchor) # Reads the text message u want to put into an image\n",
        "    message_chain = string_to_bin_chain(message) # Transforms message into bin chain (stores in list)\n",
        "    message_pointer = 0 # pointer that controls borders of text message\n",
        "    new_pixel_tuples = list() # Новые пиксели картинки, с учетом бинарной информации из текста\n",
        "    for pixel_item in pixel_tuples:\n",
        "        if message_pointer != len(message_chain): # If there are still no used bits from text message\n",
        "            # Добавляем биты сообщения в пиксель и засовываем это в ответ\n",
        "            new_pixel_tuples.append(encode_pixel(pixel_item, message_chain[message_pointer:message_pointer + 4]))\n",
        "\n",
        "            message_pointer += 4 # этот указатель показывает на биты в сообщении и его двигаем на 4 позиции\n",
        "        else: # если прочитали сообщение до конца, то в качестве последнего бита кладем рандомный\n",
        "            noise_chain = [0, 0, 0, 0]\n",
        "            for i in range(4):\n",
        "                noise_chain[i] = random.randint(0, 1) # генерим рандомные биты \n",
        "            new_pixel_tuples.append(encode_pixel(pixel_item, noise_chain)) # Добавляем рандомные биты \n",
        "    im.putdata(new_pixel_tuples) # сохраняем все это говно с новыми битами как новую картинку, поверх старой\n",
        "    im.save(save_path, \"PNG\") # Сохраняем это по адресу save_path с расширением PNG "
      ]
    },
    {
      "cell_type": "code",
      "execution_count": null,
      "metadata": {
        "id": "GkhiDZPxsTXp",
        "outputId": "03635c8c-8a06-4ab2-b099-0c3512492abc"
      },
      "outputs": [
        {
          "name": "stdout",
          "output_type": "stream",
          "text": [
            "Start program\n",
            "----------\n",
            "Finish encode\n",
            "----------\n",
            "Start decode:\n",
            "----------\n",
            "sfghsdjgbsjkfgbzsjkfhbvzjsbvsjkrvbjkbvggjkls\n"
          ]
        }
      ],
      "source": [
        "# Program start\n",
        "print('Start program')\n",
        "print(10*'-')\n",
        "encode_image('C:/Users/Xiaomi/Pictures/cat.png', 'C:/Users/Xiaomi/Pictures/text.txt', 'C:/Users/Xiaomi/Pictures/cat1.png')\n",
        "print('Finish encode')\n",
        "print(10*'-')\n",
        "print('Start decode:')\n",
        "print(10*'-')\n",
        "print(decode_image('C:/Users/Xiaomi/Pictures/cat1.png'))"
      ]
    }
  ],
  "metadata": {
    "kernelspec": {
      "display_name": "Python 3",
      "language": "python",
      "name": "python3"
    },
    "language_info": {
      "codemirror_mode": {
        "name": "ipython",
        "version": 3
      },
      "file_extension": ".py",
      "mimetype": "text/x-python",
      "name": "python",
      "nbconvert_exporter": "python",
      "pygments_lexer": "ipython3",
      "version": "3.7.1"
    },
    "colab": {
      "name": "LSB algorithm.ipynb",
      "provenance": [],
      "include_colab_link": true
    }
  },
  "nbformat": 4,
  "nbformat_minor": 0
}