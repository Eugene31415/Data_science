{
  "cells": [
    {
      "cell_type": "markdown",
      "metadata": {
        "id": "view-in-github",
        "colab_type": "text"
      },
      "source": [
        "<a href=\"https://colab.research.google.com/github/Eugene31415/Pet-Projects/blob/main/phase_vocoder.ipynb\" target=\"_parent\"><img src=\"https://colab.research.google.com/assets/colab-badge.svg\" alt=\"Open In Colab\"/></a>"
      ]
    },
    {
      "cell_type": "code",
      "execution_count": null,
      "metadata": {
        "id": "X6tqM6znqNfZ"
      },
      "outputs": [],
      "source": [
        "from scipy.io.wavfile import read, write\n",
        "from scipy.fft import fft, fftfreq\n",
        "from math import sqrt"
      ]
    },
    {
      "cell_type": "code",
      "execution_count": null,
      "metadata": {
        "id": "M43QlpVPqNfg"
      },
      "outputs": [],
      "source": [
        "def getFrames(x, hop, winSize):\n",
        "    \n",
        "    numframes = (len(x) - winSize) // hop\n",
        "    \n",
        "    Frames = np.zeros((numframes, winSize))\n",
        "    \n",
        "    for i in range(numframes): Frames[i] = x[i * hop : i * hop + winSize]\n",
        "        \n",
        "    return Frames"
      ]
    },
    {
      "cell_type": "code",
      "execution_count": null,
      "metadata": {
        "id": "vRrVLX8pqNfg"
      },
      "outputs": [],
      "source": [
        "def addFrames(Frames, hop):\n",
        "    \n",
        "    res = np.zeros(Frames.shape[0] * hop - hop + Frames.shape[1])\n",
        "    \n",
        "    tmp = 0\n",
        "    for i in range(Frames.shape[0]):\n",
        "        res[tmp:tmp + Frames.shape[1]] += Frames[i]\n",
        "        tmp += hop\n",
        "        \n",
        "    return res"
      ]
    },
    {
      "cell_type": "code",
      "execution_count": null,
      "metadata": {
        "id": "tXXVExeVqNfh"
      },
      "outputs": [],
      "source": [
        "def PitchShift(audio, winsize, hop, alpha):\n",
        "    \n",
        "    # Create Hanning window + sampling\n",
        "    wn = np.hanning(winsize * 2 + 1)[1:-1:2]\n",
        "    \n",
        "    # Final shift\n",
        "    hopOut = int(alpha * hop)\n",
        "    \n",
        "    x = np.concatenate([np.zeros(hop * 3), audio]) # хз зачем тут этот коэф 3\n",
        "    # === INITIALIZATION ===\n",
        "    \n",
        "    y = getFrames(x, hop, winsize)\n",
        "    numFrames = y.shape[0]\n",
        "    \n",
        "    newFrames = np.zeros((numFrames, winsize))\n",
        "    \n",
        "    phase = 0\n",
        "    prev = 0\n",
        "\n",
        "    for index in range(numFrames):\n",
        "        \n",
        "        # === (1) === \n",
        "        \n",
        "        currFrameWindowed = y[index] * wn / sqrt(winsize / hop / 2)\n",
        "        \n",
        "        CurrFrameWindowedFFT = np.fft.fft(currFrameWindowed)\n",
        "        \n",
        "        magFrame = abs(CurrFrameWindowedFFT)\n",
        "        phaseFrame = np.angle(CurrFrameWindowedFFT)\n",
        "        \n",
        "        # === (2) ===\n",
        "        \n",
        "        # Phase difference\n",
        "        delta = phaseFrame - prev\n",
        "        \n",
        "        newdelta = delta - hop * 2 * np.pi * np.arange(winsize) / winsize\n",
        "        \n",
        "        newdeltacut = (newdelta + np.pi) % (2 * np.pi) - np.pi\n",
        "        \n",
        "        # True freq\n",
        "        trueFreq = 2 * np.pi * np.arange(winsize) / winsize + newdeltacut / hop\n",
        "        \n",
        "        # Final phase \n",
        "        phase += hopOut * trueFreq\n",
        "        \n",
        "        # === (3) ===\n",
        "        \n",
        "        # res Frame\n",
        "        resFrame = np.fft.ifft(magFrame * np.exp(1j * phase)).real\n",
        "        \n",
        "        newFrames[index] = resFrame * wn / sqrt(winsize / hopOut / 2)\n",
        "        \n",
        "    res = addFrames(newFrames, hopOut)\n",
        "    \n",
        "    return res"
      ]
    },
    {
      "cell_type": "code",
      "execution_count": null,
      "metadata": {
        "id": "wGCsqI3HqNfj"
      },
      "outputs": [],
      "source": [
        "# Читаем файл\n",
        "samplerate, data = wavfile.read('C:/Users/Xiaomi/Downloads/test_mono.wav')"
      ]
    },
    {
      "cell_type": "code",
      "execution_count": null,
      "metadata": {
        "id": "9hnAakx8qNfj"
      },
      "outputs": [],
      "source": [
        "xx = data.shape[0]\n",
        "\n",
        "winsize = int(xx*0.01)\n",
        "hop = int(xx*0.001)\n",
        "\n",
        "res2 = PitchShift(data,winsize, hop, 5)\n",
        "\n",
        "res2 = res2.astype('int16')\n",
        "\n",
        "write(\"test_mono_r05.wav\", samplerate,  res2) # Растянутое в 2 раза\n",
        "\n",
        "samplerate, audio = read(input_path)\n"
      ]
    },
    {
      "cell_type": "code",
      "execution_count": null,
      "metadata": {
        "id": "tE3RgyGUqNfk"
      },
      "outputs": [],
      "source": [
        "# Сжимаем в 2 раза\n",
        "xx = data.shape[0]\n",
        "\n",
        "winsize = int(xx*0.01)\n",
        "hop = int(xx*0.001)\n",
        "\n",
        "res2 = PitchShift(data, winsize, hop, 0.5) # Подобрать размер окон и сдвига! \n",
        "\n",
        "res2 = res2.astype('int16')\n",
        "\n",
        "write(\"test_mono_r05.wav\", samplerate,  res2) # Растянутое в 2 раза"
      ]
    },
    {
      "cell_type": "code",
      "execution_count": null,
      "metadata": {
        "id": "HHcCE8A9qNfk"
      },
      "outputs": [],
      "source": [
        "# Растягиваем в 2 раза\n",
        "xx = data.shape[0]\n",
        "\n",
        "winsize = int(xx*0.01)\n",
        "hop = int(xx*0.001)\n",
        "\n",
        "res = PitchShift(data, winsize, hop, 2)\n",
        "\n",
        "res *= (max(data) / max(res))\n",
        "res = np.ceil(res).astype('int16')\n",
        "\n",
        "write(\"test_mono_r2.wav\", samplerate,  res ) # Растянутое в 2 раза"
      ]
    },
    {
      "cell_type": "code",
      "execution_count": null,
      "metadata": {
        "id": "chs7Nn95qNfm",
        "outputId": "01323350-0227-4de7-f8c9-c6bc6f51065c"
      },
      "outputs": [
        {
          "data": {
            "text/plain": [
              "[<matplotlib.lines.Line2D at 0x25984d5a2b0>]"
            ]
          },
          "execution_count": 422,
          "metadata": {},
          "output_type": "execute_result"
        },
        {
          "data": {
            "image/png": "[encoded data removed]",
            "text/plain": [
              "<Figure size 432x288 with 1 Axes>"
            ]
          },
          "metadata": {
            "needs_background": "light"
          },
          "output_type": "display_data"
        }
      ],
      "source": [
        "plt.plot(data)\n",
        "plt.plot(res2 * (max(data) / max(res2)))"
      ]
    }
  ],
  "metadata": {
    "kernelspec": {
      "display_name": "Python 3",
      "language": "python",
      "name": "python3"
    },
    "language_info": {
      "codemirror_mode": {
        "name": "ipython",
        "version": 3
      },
      "file_extension": ".py",
      "mimetype": "text/x-python",
      "name": "python",
      "nbconvert_exporter": "python",
      "pygments_lexer": "ipython3",
      "version": "3.7.1"
    },
    "colab": {
      "name": "phase_vocoder.ipynb",
      "provenance": [],
      "collapsed_sections": [],
      "include_colab_link": true
    }
  },
  "nbformat": 4,
  "nbformat_minor": 0
}